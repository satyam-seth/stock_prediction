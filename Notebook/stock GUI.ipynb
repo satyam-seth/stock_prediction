{
 "cells": [
  {
   "cell_type": "code",
   "execution_count": 1,
   "metadata": {},
   "outputs": [],
   "source": [
    "import datetime\n",
    "import tkinter as tk\n",
    "from tkinter import ttk\n",
    "import numpy as np\n",
    "import pandas_datareader as pdr\n",
    "import matplotlib as plt\n",
    "from sklearn.preprocessing import StandardScaler\n",
    "from sklearn.linear_model import LinearRegression\n",
    "from sklearn.model_selection import train_test_split"
   ]
  },
  {
   "cell_type": "code",
   "execution_count": 2,
   "metadata": {},
   "outputs": [],
   "source": [
    "def pred(stock,test,days,acu,result):\n",
    "    global dt\n",
    "    dt=pdr.DataReader(stock,'tiingo','2000-1-1',datetime.datetime.now(),api_key='911ee28d70118f9cea5a84d2b8f1436fa32d3116')\n",
    "    dt.reset_index(inplace=True)\n",
    "    dt.set_index(\"date\",inplace=True)\n",
    "    dt=dt[['adjClose','adjHigh','adjLow','adjOpen','adjVolume']]\n",
    "    no_days=int(days)\n",
    "    dt['new_close']=dt['adjClose'].shift(-no_days)\n",
    "    x=dt.drop(['adjClose','new_close'],axis=1)\n",
    "    y=dt['new_close'].dropna()\n",
    "    x1=x[:-no_days]\n",
    "    x2=x[-no_days:]\n",
    "    scaler=StandardScaler()\n",
    "    scaler.fit(x1)\n",
    "    x1=scaler.transform(x1)\n",
    "    x2=scaler.transform(x2)\n",
    "    x_tr,x_ts,y_tr,y_ts=train_test_split(x1,y,test_size=0.25)\n",
    "    algo=LinearRegression()\n",
    "    algo.fit(x_tr,y_tr)\n",
    "    acu.config(text=str(algo.score(x_ts,y_ts)))\n",
    "    prd=algo.predict(x2)\n",
    "    result.config(text=str(prd))\n",
    "    dt['forecast']=np.nan\n",
    "    last_day=dt.iloc[-1].name\n",
    "    for i in prd:\n",
    "        last_day=last_day+datetime.timedelta(1)\n",
    "        dt.loc[last_day]=[np.nan for _ in range(6)]+[i]"
   ]
  },
  {
   "cell_type": "code",
   "execution_count": 3,
   "metadata": {},
   "outputs": [],
   "source": [
    "def vis():\n",
    "    %matplotlib tk\n",
    "    dt['adjClose'].plot()\n",
    "    dt['forecast'].plot()"
   ]
  },
  {
   "cell_type": "code",
   "execution_count": 4,
   "metadata": {},
   "outputs": [],
   "source": [
    "def gui():\n",
    "    win=tk.Tk()\n",
    "    win.title('Stock Prediction')\n",
    "    # Label\n",
    "    stock_label=ttk.Label(win,font=('times',15,'bold'),text='Select Stock:')\n",
    "    stock_label.grid(row=0,column=0,sticky=tk.W)\n",
    "\n",
    "    test_label=ttk.Label(win,font=('times',15,'bold'),text='Select Test Size:')\n",
    "    test_label.grid(row=1,column=0,sticky=tk.W)\n",
    "\n",
    "    days_label=ttk.Label(win,font=('times',15,'bold'),text='No. of Days:')\n",
    "    days_label.grid(row=2,column=0,sticky=tk.W)\n",
    "\n",
    "    acurracy_label=ttk.Label(win,font=('times',15,'bold'),text='Acurracy:')\n",
    "    acurracy_label.grid(row=4,column=0,sticky=tk.W)\n",
    "\n",
    "    result_label=ttk.Label(win,font=('times',15,'bold'),text='Predicion Result:')\n",
    "    result_label.grid(row=5,column=0,sticky=tk.W)\n",
    "\n",
    "    # Combobox\n",
    "    stock_var=tk.StringVar()\n",
    "    stock_options=ttk.Combobox(win,font=('times',15,'bold'),textvariable=stock_var,state='readonly')\n",
    "    stock_options['values']=('googl','msft')\n",
    "    stock_options.current(0)\n",
    "    stock_options.grid(row=0,column=1)\n",
    "\n",
    "    test_var=tk.DoubleVar()\n",
    "    test_options=ttk.Combobox(win,font=('times',15,'bold'),textvariable=test_var,state='readonly')\n",
    "    test_options['values']=(0.2,0.25,0.3)\n",
    "    test_options.current(0)\n",
    "    test_options.grid(row=1,column=1)\n",
    "\n",
    "    # Entry\n",
    "    days_var=tk.IntVar()\n",
    "    days_entry=ttk.Entry(win,font=('times',15,'bold'),width=21,textvariable=days_var)\n",
    "    days_var.set(1)\n",
    "    days_entry.grid(row=2,column=1)\n",
    "\n",
    "    # Button\n",
    "    eval_button=tk.Button(win,font=('times',15,'bold'),text='Evaluate',command=lambda:pred(stock_var.get(),test_var.get(),days_var.get(),acu,result))\n",
    "    eval_button.grid(row=3,column=0)\n",
    "\n",
    "    visual_button=tk.Button(win,font=('times',15,'bold'),text='Visualize',command=vis)\n",
    "    visual_button.grid(row=3,column=1)\n",
    "\n",
    "    # Message\n",
    "    acu=tk.Message(win,font=('times',15,'bold'))\n",
    "    acu.grid(row=4,column=1)\n",
    "\n",
    "    result=tk.Message(win,font=('times',15,'bold'))\n",
    "    result.grid(row=5,column=1)\n",
    "\n",
    "    win.mainloop()"
   ]
  },
  {
   "cell_type": "code",
   "execution_count": 5,
   "metadata": {},
   "outputs": [],
   "source": [
    "gui()"
   ]
  }
 ],
 "metadata": {
  "kernelspec": {
   "display_name": "Python 3",
   "language": "python",
   "name": "python3"
  },
  "language_info": {
   "codemirror_mode": {
    "name": "ipython",
    "version": 3
   },
   "file_extension": ".py",
   "mimetype": "text/x-python",
   "name": "python",
   "nbconvert_exporter": "python",
   "pygments_lexer": "ipython3",
   "version": "3.7.0"
  }
 },
 "nbformat": 4,
 "nbformat_minor": 2
}
